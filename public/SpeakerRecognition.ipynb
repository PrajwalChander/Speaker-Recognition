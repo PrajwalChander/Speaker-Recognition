{
 "cells": [
  {
   "cell_type": "code",
   "execution_count": 39,
   "id": "276a5695",
   "metadata": {},
   "outputs": [
    {
     "name": "stdout",
     "output_type": "stream",
     "text": [
      "(64, 34)\n",
      "(64,)\n"
     ]
    }
   ],
   "source": [
    "import firebase_admin\n",
    "from firebase_admin import credentials, firestore\n",
    "import numpy as np\n",
    "from sklearn.model_selection import train_test_split, KFold, GridSearchCV, RandomizedSearchCV\n",
    "from sklearn.svm import SVC\n",
    "from sklearn.ensemble import RandomForestClassifier\n",
    "from sklearn.neighbors import KNeighborsClassifier\n",
    "from sklearn.metrics import accuracy_score\n",
    "from sklearn.preprocessing import LabelEncoder, StandardScaler\n",
    "from sklearn.ensemble import VotingClassifier\n",
    "import joblib\n",
    "# Initialize Firebase\n",
    "if not firebase_admin._apps:\n",
    "    cred = credentials.Certificate(r\"C:\\Users\\PRAJWAL CHANDEER\\Dropbox\\PC\\Desktop\\SpeechRecog\\speakerrecog.json\")  # Replace with your file path\n",
    "    firebase_admin.initialize_app(cred)\n",
    "\n",
    "# Connect to Firestore\n",
    "db = firestore.client()\n",
    "\n",
    "# Fetch data from Firestore\n",
    "features_list = []\n",
    "usernames = []\n",
    "\n",
    "# Retrieve documents from Firestore collection\n",
    "docs = db.collection('audioFeatures').stream()\n",
    "for doc in docs:\n",
    "    data = doc.to_dict()\n",
    "\n",
    "    # Parse features\n",
    "    mfcc = list(map(float, data['mfcc'].split(\",\")))  # Convert comma-separated string to list of floats\n",
    "    chroma = list(map(float, data['chroma'].split(\",\")))\n",
    "    energy = float(data['energy'])\n",
    "    spectral_features = [\n",
    "        data['spectralCentroid'],\n",
    "        data['spectralFlatness'],\n",
    "        data['spectralKurtosis'],\n",
    "        data['spectralRolloff'],\n",
    "        data['spectralSkewness'],\n",
    "        data['spectralSlope'],\n",
    "        data['spectralSpread'],\n",
    "        data['zeroCrossingRate'],\n",
    "    ]\n",
    "\n",
    "    # Combine all features into a single list\n",
    "    combined_features = mfcc + chroma + spectral_features + [energy]\n",
    "    features_list.append(combined_features)\n",
    "    usernames.append(data['username'])\n",
    "\n",
    "# Convert to NumPy arrays\n",
    "X = np.array(features_list)  # Features\n",
    "y = np.array(usernames)      # Labels\n",
    "print(X.shape)\n",
    "print(y.shape)\n",
    "# Encode usernames into numerical labels\n",
    "scaler = StandardScaler()\n",
    "X_scaled = scaler.fit_transform(X)\n",
    "label_encoder = LabelEncoder()\n",
    "y_encoded = label_encoder.fit_transform(y)"
   ]
  },
  {
   "cell_type": "code",
   "execution_count": 45,
   "id": "c93fd0c0",
   "metadata": {},
   "outputs": [
    {
     "name": "stderr",
     "output_type": "stream",
     "text": [
      "C:\\Python311\\Lib\\site-packages\\sklearn\\model_selection\\_search.py:307: UserWarning: The total space of parameters 9 is smaller than n_iter=10. Running 9 iterations. For exhaustive searches, use GridSearchCV.\n",
      "  warnings.warn(\n"
     ]
    },
    {
     "name": "stdout",
     "output_type": "stream",
     "text": [
      "(64, 34)\n",
      "[0 2 0 2 0 1 1 0 2 0 2 2 1]\n",
      "[0 2 0 2 0 1 1 0 2 0 2 2 1]\n",
      "Voting Classifier Accuracy: 100.00%\n"
     ]
    },
    {
     "data": {
      "text/plain": [
       "['C:\\\\Users\\\\PRAJWAL CHANDEER\\\\Dropbox\\\\PC\\\\Desktop\\\\SpeechRecog\\\\frontend\\\\src\\\\components\\\\scaler.pkl']"
      ]
     },
     "execution_count": 45,
     "metadata": {},
     "output_type": "execute_result"
    }
   ],
   "source": [
    "\n",
    "\n",
    "# Define models and parameters\n",
    "svm_params = {\n",
    "    'C': [0.1, 1, 10],\n",
    "    'gamma': [0.001, 0.01, 0.1, 1],\n",
    "    'kernel': ['rbf', 'linear']\n",
    "}\n",
    "\n",
    "rf_params = {\n",
    "    'n_estimators': [10, 50, 100],\n",
    "    'max_depth': [None, 10, 20],\n",
    "    'class_weight': ['balanced'],\n",
    "    'random_state': [12]\n",
    "}\n",
    "\n",
    "knn_params = {\n",
    "    'n_neighbors': [3, 5, 7],\n",
    "    'weights': ['uniform', 'distance'],\n",
    "    'metric': ['euclidean', 'manhattan']\n",
    "}\n",
    "\n",
    "# Perform GridSearchCV/RandomizedSearchCV\n",
    "kf = KFold(n_splits=5, shuffle=True, random_state=12)\n",
    "\n",
    "svm_model = GridSearchCV(SVC(), svm_params, cv=kf, scoring='accuracy')\n",
    "svm_model.fit(X_scaled, y_encoded)\n",
    "\n",
    "rf_model = RandomizedSearchCV(RandomForestClassifier(), rf_params, cv=kf, scoring='accuracy', n_iter=10, random_state=26)\n",
    "rf_model.fit(X_scaled, y_encoded)\n",
    "\n",
    "knn_model = GridSearchCV(KNeighborsClassifier(), knn_params, cv=kf, scoring='accuracy')\n",
    "knn_model.fit(X_scaled, y_encoded)\n",
    "\n",
    "# Get best models\n",
    "best_svm = svm_model.best_estimator_\n",
    "best_rf = rf_model.best_estimator_\n",
    "best_knn = knn_model.best_estimator_\n",
    "\n",
    "# Voting Classifier\n",
    "voting_model = VotingClassifier(estimators=[\n",
    "    ('svm', best_svm),\n",
    "    ('rf', best_rf),\n",
    "    ('knn', best_knn)\n",
    "], voting='hard')\n",
    "\n",
    "# Evaluate with Train-Test Split\n",
    "X_train, X_test, y_train, y_test = train_test_split(X_scaled, y_encoded, test_size=0.2, random_state=120)\n",
    "voting_model.fit(X_train, y_train)\n",
    "\n",
    "# Predict and Evaluate\n",
    "y_pred = voting_model.predict(X_test)\n",
    "accuracy = accuracy_score(y_test, y_pred)\n",
    "print(X.shape)\n",
    "print(y_test)\n",
    "print(y_pred)\n",
    "print(f\"Voting Classifier Accuracy: {accuracy * 100:.2f}%\")\n",
    "\n",
    "# Save models and encoders\n",
    "joblib.dump(label_encoder, r\"C:\\Users\\PRAJWAL CHANDEER\\Dropbox\\PC\\Desktop\\SpeechRecog\\frontend\\src\\components\\label_encoder.pkl\")\n",
    "joblib.dump(voting_model, r\"C:\\Users\\PRAJWAL CHANDEER\\Dropbox\\PC\\Desktop\\SpeechRecog\\frontend\\src\\components\\voting_model.pkl\")\n",
    "joblib.dump(scaler, r\"C:\\Users\\PRAJWAL CHANDEER\\Dropbox\\PC\\Desktop\\SpeechRecog\\frontend\\src\\components\\scaler.pkl\")\n"
   ]
  },
  {
   "cell_type": "code",
   "execution_count": null,
   "id": "fd815f60",
   "metadata": {},
   "outputs": [],
   "source": []
  },
  {
   "cell_type": "code",
   "execution_count": null,
   "id": "abdb19b2",
   "metadata": {},
   "outputs": [],
   "source": []
  }
 ],
 "metadata": {
  "kernelspec": {
   "display_name": "Python 3 (ipykernel)",
   "language": "python",
   "name": "python3"
  },
  "language_info": {
   "codemirror_mode": {
    "name": "ipython",
    "version": 3
   },
   "file_extension": ".py",
   "mimetype": "text/x-python",
   "name": "python",
   "nbconvert_exporter": "python",
   "pygments_lexer": "ipython3",
   "version": "3.11.3"
  }
 },
 "nbformat": 4,
 "nbformat_minor": 5
}
